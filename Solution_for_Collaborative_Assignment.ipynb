{
  "nbformat": 4,
  "nbformat_minor": 0,
  "metadata": {
    "colab": {
      "provenance": []
    },
    "kernelspec": {
      "name": "python3",
      "display_name": "Python 3"
    },
    "language_info": {
      "name": "python"
    }
  },
  "cells": [
    {
      "cell_type": "code",
      "source": [
        "codons = {\n",
        "\t'A': ['GCT', 'GCC', 'GCA', 'GCG'],\n",
        "\t'C': ['TGT', 'TGC'],\n",
        "\t'D': ['GAT', 'GAC'],\n",
        "\t'E': ['GAA', 'GAG'],\n",
        "\t'F': ['TTT', 'TTC'],\n",
        "\t'G': ['GGT', 'GGC', 'GGA', 'GGG'],\n",
        "\t'H': ['CAT', 'CAC'],\n",
        "\t'I': ['ATT', 'ATC', 'ATA'],\n",
        "\t'K': ['AAA', 'AAG'],\n",
        "\t'L': ['TTA', 'TTG', 'CTT', 'CTC', 'CTA', 'CTG'],\n",
        "\t'M': ['ATG'],\n",
        "\t'N': ['AAT', 'AAC'],\n",
        "\t'P': ['CCT', 'CCC', 'CCA', 'CCG'],\n",
        "\t'Q': ['CAA', 'CAG'],\n",
        "\t'R': ['CGT', 'CGC', 'CGA', 'CGG', 'AGA', 'AGG'],\n",
        "\t'S': ['TCT', 'TCC', 'TCA', 'TCG', 'AGT', 'AGC'],\n",
        "\t'T': ['ACT', 'ACC', 'ACA', 'ACG'],\n",
        "\t'V': ['GTT', 'GTC', 'GTA', 'GTG'],\n",
        "\t'W': ['TGG'],\n",
        "\t'Y': ['TAT', 'TAC'],\n",
        "\t'*': ['TAA', 'TAG', 'TGA']\n",
        "}\n",
        "\n",
        "\n",
        "def dna_converter(dna,codons):\n",
        "  prtn=\"\"\n",
        "  l_prtn=\"\"\n",
        "  longLen=0\n",
        "\n",
        "  for i in range(-3,3):\n",
        "    while i<len(dna)-2:\n",
        "      cdn= dna[i:i+3]\n",
        "\n",
        "      if cdn.upper() in codons[\"*\"]:\n",
        "\n",
        "        if len(l_prtn)>longLen:\n",
        "          l_prtn=prtn\n",
        "          longLen=len(prtn)\n",
        "\n",
        "      for k,v in codons.items():\n",
        "        if cdn.upper() in v:\n",
        "          prtn+= k\n",
        "      i+=3\n",
        "  return l_prtn\n",
        "\n",
        "dna=input()\n",
        "print(dna_converter(dna,codons))"
      ],
      "metadata": {
        "colab": {
          "base_uri": "https://localhost:8080/"
        },
        "id": "VVJKQ9axse7O",
        "outputId": "d2583008-b54f-4404-ab8a-d3603458aec5"
      },
      "execution_count": 12,
      "outputs": [
        {
          "output_type": "stream",
          "name": "stdout",
          "text": [
            "attttcatatatgtatatatttattatgtcacaaatagctacatactggataagccagaaagatgaggaaacatgtttgcatct\n",
            "\n"
          ]
        }
      ]
    }
  ]
}